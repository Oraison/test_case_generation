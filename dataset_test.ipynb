{
 "cells": [
  {
   "cell_type": "code",
   "execution_count": 2,
   "metadata": {},
   "outputs": [
    {
     "data": {
      "application/vnd.jupyter.widget-view+json": {
       "model_id": "243d6301a5e44393842af72c1423938f",
       "version_major": 2,
       "version_minor": 0
      },
      "text/plain": [
       "Downloading metadata:   0%|          | 0.00/4.52k [00:00<?, ?B/s]"
      ]
     },
     "metadata": {},
     "output_type": "display_data"
    },
    {
     "data": {
      "application/vnd.jupyter.widget-view+json": {
       "model_id": "f031d2818aa144abb597deae86ff8a0f",
       "version_major": 2,
       "version_minor": 0
      },
      "text/plain": [
       "Downloading readme:   0%|          | 0.00/13.0k [00:00<?, ?B/s]"
      ]
     },
     "metadata": {},
     "output_type": "display_data"
    },
    {
     "name": "stderr",
     "output_type": "stream",
     "text": [
      "Using custom data configuration deepmind--code_contests-5c21f58b6c868668\n"
     ]
    },
    {
     "name": "stdout",
     "output_type": "stream",
     "text": [
      "Downloading and preparing dataset code_contests/default (download: 7.10 GiB, generated: 18.07 GiB, post-processed: Unknown size, total: 25.17 GiB) to /home/toc/.cache/huggingface/datasets/deepmind___parquet/deepmind--code_contests-5c21f58b6c868668/0.0.0/2a3b91fbd88a2c90d1dbbb32b460cf621d31bd5b05b934492fdef7d8d6f236ec...\n"
     ]
    },
    {
     "data": {
      "application/vnd.jupyter.widget-view+json": {
       "model_id": "4f93b701565d4e1486eb752ffaefcd38",
       "version_major": 2,
       "version_minor": 0
      },
      "text/plain": [
       "Downloading data files:   0%|          | 0/3 [00:00<?, ?it/s]"
      ]
     },
     "metadata": {},
     "output_type": "display_data"
    },
    {
     "data": {
      "application/vnd.jupyter.widget-view+json": {
       "model_id": "a3158cd012b34076826c8d87448dadcc",
       "version_major": 2,
       "version_minor": 0
      },
      "text/plain": [
       "Downloading data:   0%|          | 0.00/180M [00:00<?, ?B/s]"
      ]
     },
     "metadata": {},
     "output_type": "display_data"
    },
    {
     "data": {
      "application/vnd.jupyter.widget-view+json": {
       "model_id": "dafc58df76224c4c9f4b2b1e88f267b7",
       "version_major": 2,
       "version_minor": 0
      },
      "text/plain": [
       "Downloading data:   0%|          | 0.00/209M [00:00<?, ?B/s]"
      ]
     },
     "metadata": {},
     "output_type": "display_data"
    },
    {
     "data": {
      "application/vnd.jupyter.widget-view+json": {
       "model_id": "a0795d67989e4b499ffbf75c296fd048",
       "version_major": 2,
       "version_minor": 0
      },
      "text/plain": [
       "Downloading data:   0%|          | 0.00/227M [00:00<?, ?B/s]"
      ]
     },
     "metadata": {},
     "output_type": "display_data"
    },
    {
     "data": {
      "application/vnd.jupyter.widget-view+json": {
       "model_id": "08071ed09763403b98d9ea6aa4ab4c16",
       "version_major": 2,
       "version_minor": 0
      },
      "text/plain": [
       "Downloading data:   0%|          | 0.00/181M [00:00<?, ?B/s]"
      ]
     },
     "metadata": {},
     "output_type": "display_data"
    },
    {
     "data": {
      "application/vnd.jupyter.widget-view+json": {
       "model_id": "9ca8aa63268842299cce7b77e41a68b0",
       "version_major": 2,
       "version_minor": 0
      },
      "text/plain": [
       "Downloading data:   0%|          | 0.00/195M [00:00<?, ?B/s]"
      ]
     },
     "metadata": {},
     "output_type": "display_data"
    },
    {
     "data": {
      "application/vnd.jupyter.widget-view+json": {
       "model_id": "73f9c36a90b740ad8131400fe0093f5f",
       "version_major": 2,
       "version_minor": 0
      },
      "text/plain": [
       "Downloading data:   0%|          | 0.00/174M [00:00<?, ?B/s]"
      ]
     },
     "metadata": {},
     "output_type": "display_data"
    },
    {
     "data": {
      "application/vnd.jupyter.widget-view+json": {
       "model_id": "efb349d32f62485f80f7bdc067e354e6",
       "version_major": 2,
       "version_minor": 0
      },
      "text/plain": [
       "Downloading data:   0%|          | 0.00/186M [00:00<?, ?B/s]"
      ]
     },
     "metadata": {},
     "output_type": "display_data"
    },
    {
     "data": {
      "application/vnd.jupyter.widget-view+json": {
       "model_id": "f1904f5a9bc348a3aaf9a4b63a099b0f",
       "version_major": 2,
       "version_minor": 0
      },
      "text/plain": [
       "Downloading data:   0%|          | 0.00/172M [00:00<?, ?B/s]"
      ]
     },
     "metadata": {},
     "output_type": "display_data"
    },
    {
     "data": {
      "application/vnd.jupyter.widget-view+json": {
       "model_id": "4920f1a2ecf44e0ca53d61c07ee4bd0a",
       "version_major": 2,
       "version_minor": 0
      },
      "text/plain": [
       "Downloading data:   0%|          | 0.00/200M [00:00<?, ?B/s]"
      ]
     },
     "metadata": {},
     "output_type": "display_data"
    },
    {
     "data": {
      "application/vnd.jupyter.widget-view+json": {
       "model_id": "637d50c97569475e87f2b8fe1470e17c",
       "version_major": 2,
       "version_minor": 0
      },
      "text/plain": [
       "Downloading data:   0%|          | 0.00/205M [00:00<?, ?B/s]"
      ]
     },
     "metadata": {},
     "output_type": "display_data"
    },
    {
     "data": {
      "application/vnd.jupyter.widget-view+json": {
       "model_id": "5aec016aca8e4f489fa646e701b0771d",
       "version_major": 2,
       "version_minor": 0
      },
      "text/plain": [
       "Downloading data:   0%|          | 0.00/178M [00:00<?, ?B/s]"
      ]
     },
     "metadata": {},
     "output_type": "display_data"
    },
    {
     "data": {
      "application/vnd.jupyter.widget-view+json": {
       "model_id": "3e3a4ee02b194ea9865ea96447ce5e26",
       "version_major": 2,
       "version_minor": 0
      },
      "text/plain": [
       "Downloading data:   0%|          | 0.00/164M [00:00<?, ?B/s]"
      ]
     },
     "metadata": {},
     "output_type": "display_data"
    },
    {
     "data": {
      "application/vnd.jupyter.widget-view+json": {
       "model_id": "d73e6e5446c9427f848233070b47e5be",
       "version_major": 2,
       "version_minor": 0
      },
      "text/plain": [
       "Downloading data:   0%|          | 0.00/200M [00:00<?, ?B/s]"
      ]
     },
     "metadata": {},
     "output_type": "display_data"
    },
    {
     "data": {
      "application/vnd.jupyter.widget-view+json": {
       "model_id": "d9310446edd34090a385613a8b9089e6",
       "version_major": 2,
       "version_minor": 0
      },
      "text/plain": [
       "Downloading data:   0%|          | 0.00/197M [00:00<?, ?B/s]"
      ]
     },
     "metadata": {},
     "output_type": "display_data"
    },
    {
     "data": {
      "application/vnd.jupyter.widget-view+json": {
       "model_id": "286ee4bbbee24df394c279056b9a77df",
       "version_major": 2,
       "version_minor": 0
      },
      "text/plain": [
       "Downloading data:   0%|          | 0.00/211M [00:00<?, ?B/s]"
      ]
     },
     "metadata": {},
     "output_type": "display_data"
    },
    {
     "data": {
      "application/vnd.jupyter.widget-view+json": {
       "model_id": "788e66c5c53d4366be0978c699f367d1",
       "version_major": 2,
       "version_minor": 0
      },
      "text/plain": [
       "Downloading data:   0%|          | 0.00/179M [00:00<?, ?B/s]"
      ]
     },
     "metadata": {},
     "output_type": "display_data"
    },
    {
     "data": {
      "application/vnd.jupyter.widget-view+json": {
       "model_id": "4afb403c65d64b3da30e696bd701617e",
       "version_major": 2,
       "version_minor": 0
      },
      "text/plain": [
       "Downloading data:   0%|          | 0.00/202M [00:00<?, ?B/s]"
      ]
     },
     "metadata": {},
     "output_type": "display_data"
    },
    {
     "data": {
      "application/vnd.jupyter.widget-view+json": {
       "model_id": "34aebc57ec1c44f69d06c4a345c74188",
       "version_major": 2,
       "version_minor": 0
      },
      "text/plain": [
       "Downloading data:   0%|          | 0.00/169M [00:00<?, ?B/s]"
      ]
     },
     "metadata": {},
     "output_type": "display_data"
    },
    {
     "data": {
      "application/vnd.jupyter.widget-view+json": {
       "model_id": "039615506a3748179be5b3e3a6656949",
       "version_major": 2,
       "version_minor": 0
      },
      "text/plain": [
       "Downloading data:   0%|          | 0.00/185M [00:00<?, ?B/s]"
      ]
     },
     "metadata": {},
     "output_type": "display_data"
    },
    {
     "data": {
      "application/vnd.jupyter.widget-view+json": {
       "model_id": "a3b548be85c94546a6b10339bf0ab06c",
       "version_major": 2,
       "version_minor": 0
      },
      "text/plain": [
       "Downloading data:   0%|          | 0.00/191M [00:00<?, ?B/s]"
      ]
     },
     "metadata": {},
     "output_type": "display_data"
    },
    {
     "data": {
      "application/vnd.jupyter.widget-view+json": {
       "model_id": "d7ddf04722274c8dafd8b5465b361782",
       "version_major": 2,
       "version_minor": 0
      },
      "text/plain": [
       "Downloading data:   0%|          | 0.00/211M [00:00<?, ?B/s]"
      ]
     },
     "metadata": {},
     "output_type": "display_data"
    },
    {
     "data": {
      "application/vnd.jupyter.widget-view+json": {
       "model_id": "05660818e04441889ab0cd46012eeaf8",
       "version_major": 2,
       "version_minor": 0
      },
      "text/plain": [
       "Downloading data:   0%|          | 0.00/181M [00:00<?, ?B/s]"
      ]
     },
     "metadata": {},
     "output_type": "display_data"
    },
    {
     "data": {
      "application/vnd.jupyter.widget-view+json": {
       "model_id": "7e9d55ef3c9541338fc9b36bc9eb2af4",
       "version_major": 2,
       "version_minor": 0
      },
      "text/plain": [
       "Downloading data:   0%|          | 0.00/194M [00:00<?, ?B/s]"
      ]
     },
     "metadata": {},
     "output_type": "display_data"
    },
    {
     "data": {
      "application/vnd.jupyter.widget-view+json": {
       "model_id": "9f3f21777d6d4da9864e3fb62e7768fd",
       "version_major": 2,
       "version_minor": 0
      },
      "text/plain": [
       "Downloading data:   0%|          | 0.00/176M [00:00<?, ?B/s]"
      ]
     },
     "metadata": {},
     "output_type": "display_data"
    },
    {
     "data": {
      "application/vnd.jupyter.widget-view+json": {
       "model_id": "27f0176691254fa1bf6af8dd2e05e596",
       "version_major": 2,
       "version_minor": 0
      },
      "text/plain": [
       "Downloading data:   0%|          | 0.00/181M [00:00<?, ?B/s]"
      ]
     },
     "metadata": {},
     "output_type": "display_data"
    },
    {
     "data": {
      "application/vnd.jupyter.widget-view+json": {
       "model_id": "ba8f9230102b40f3b685a878756913a4",
       "version_major": 2,
       "version_minor": 0
      },
      "text/plain": [
       "Downloading data:   0%|          | 0.00/206M [00:00<?, ?B/s]"
      ]
     },
     "metadata": {},
     "output_type": "display_data"
    },
    {
     "data": {
      "application/vnd.jupyter.widget-view+json": {
       "model_id": "8e53529d7cf94316bca9a5f837fcf8c3",
       "version_major": 2,
       "version_minor": 0
      },
      "text/plain": [
       "Downloading data:   0%|          | 0.00/189M [00:00<?, ?B/s]"
      ]
     },
     "metadata": {},
     "output_type": "display_data"
    },
    {
     "data": {
      "application/vnd.jupyter.widget-view+json": {
       "model_id": "f8f577bc71a34661b1bdb9f816a9b322",
       "version_major": 2,
       "version_minor": 0
      },
      "text/plain": [
       "Downloading data:   0%|          | 0.00/217M [00:00<?, ?B/s]"
      ]
     },
     "metadata": {},
     "output_type": "display_data"
    },
    {
     "data": {
      "application/vnd.jupyter.widget-view+json": {
       "model_id": "c97a7ca1e12f4c199891317b577fb52f",
       "version_major": 2,
       "version_minor": 0
      },
      "text/plain": [
       "Downloading data:   0%|          | 0.00/179M [00:00<?, ?B/s]"
      ]
     },
     "metadata": {},
     "output_type": "display_data"
    },
    {
     "data": {
      "application/vnd.jupyter.widget-view+json": {
       "model_id": "bedbd173a28944cea18eb7f66df9f4d1",
       "version_major": 2,
       "version_minor": 0
      },
      "text/plain": [
       "Downloading data:   0%|          | 0.00/198M [00:00<?, ?B/s]"
      ]
     },
     "metadata": {},
     "output_type": "display_data"
    },
    {
     "data": {
      "application/vnd.jupyter.widget-view+json": {
       "model_id": "f559004efe6f44399b23681e7612f5d7",
       "version_major": 2,
       "version_minor": 0
      },
      "text/plain": [
       "Downloading data:   0%|          | 0.00/223M [00:00<?, ?B/s]"
      ]
     },
     "metadata": {},
     "output_type": "display_data"
    },
    {
     "data": {
      "application/vnd.jupyter.widget-view+json": {
       "model_id": "9f6dbf2138724dc1b8089b1a4fa20dcf",
       "version_major": 2,
       "version_minor": 0
      },
      "text/plain": [
       "Downloading data:   0%|          | 0.00/181M [00:00<?, ?B/s]"
      ]
     },
     "metadata": {},
     "output_type": "display_data"
    },
    {
     "data": {
      "application/vnd.jupyter.widget-view+json": {
       "model_id": "77bcff74b2364d09b2e5d9706f34e430",
       "version_major": 2,
       "version_minor": 0
      },
      "text/plain": [
       "Downloading data:   0%|          | 0.00/186M [00:00<?, ?B/s]"
      ]
     },
     "metadata": {},
     "output_type": "display_data"
    },
    {
     "data": {
      "application/vnd.jupyter.widget-view+json": {
       "model_id": "5fc30bc425594be2b4ce17e5b70b39d1",
       "version_major": 2,
       "version_minor": 0
      },
      "text/plain": [
       "Downloading data:   0%|          | 0.00/204M [00:00<?, ?B/s]"
      ]
     },
     "metadata": {},
     "output_type": "display_data"
    },
    {
     "data": {
      "application/vnd.jupyter.widget-view+json": {
       "model_id": "e66c98b4b2c444bca9e2026c1ed58a4e",
       "version_major": 2,
       "version_minor": 0
      },
      "text/plain": [
       "Downloading data:   0%|          | 0.00/188M [00:00<?, ?B/s]"
      ]
     },
     "metadata": {},
     "output_type": "display_data"
    },
    {
     "data": {
      "application/vnd.jupyter.widget-view+json": {
       "model_id": "5a080624b5a54bfa950ea02531ad2bf5",
       "version_major": 2,
       "version_minor": 0
      },
      "text/plain": [
       "Downloading data:   0%|          | 0.00/151M [00:00<?, ?B/s]"
      ]
     },
     "metadata": {},
     "output_type": "display_data"
    },
    {
     "data": {
      "application/vnd.jupyter.widget-view+json": {
       "model_id": "02fb7b5857094600a186b69d230ddbde",
       "version_major": 2,
       "version_minor": 0
      },
      "text/plain": [
       "Downloading data:   0%|          | 0.00/204M [00:00<?, ?B/s]"
      ]
     },
     "metadata": {},
     "output_type": "display_data"
    },
    {
     "data": {
      "application/vnd.jupyter.widget-view+json": {
       "model_id": "8609a722306c4df2b0d6bde025cd8262",
       "version_major": 2,
       "version_minor": 0
      },
      "text/plain": [
       "Downloading data:   0%|          | 0.00/231M [00:00<?, ?B/s]"
      ]
     },
     "metadata": {},
     "output_type": "display_data"
    },
    {
     "data": {
      "application/vnd.jupyter.widget-view+json": {
       "model_id": "c05c3a09e0844c71869015ece4ff4cc1",
       "version_major": 2,
       "version_minor": 0
      },
      "text/plain": [
       "Downloading data:   0%|          | 0.00/204M [00:00<?, ?B/s]"
      ]
     },
     "metadata": {},
     "output_type": "display_data"
    },
    {
     "data": {
      "application/vnd.jupyter.widget-view+json": {
       "model_id": "4bc5c2c9367f40f5a350c41a80545545",
       "version_major": 2,
       "version_minor": 0
      },
      "text/plain": [
       "Downloading data:   0%|          | 0.00/63.1M [00:00<?, ?B/s]"
      ]
     },
     "metadata": {},
     "output_type": "display_data"
    },
    {
     "data": {
      "application/vnd.jupyter.widget-view+json": {
       "model_id": "6431b0066cba475f8c20f520a4d7c189",
       "version_major": 2,
       "version_minor": 0
      },
      "text/plain": [
       "Downloading data:   0%|          | 0.00/51.8M [00:00<?, ?B/s]"
      ]
     },
     "metadata": {},
     "output_type": "display_data"
    },
    {
     "name": "stderr",
     "output_type": "stream",
     "text": [
      "Computing checksums of downloaded files. They can be used for integrity verification. You can disable this by passing ignore_verifications=True to load_dataset\n"
     ]
    },
    {
     "data": {
      "application/vnd.jupyter.widget-view+json": {
       "model_id": "c4224e15eee340c5a5ce54437aea701b",
       "version_major": 2,
       "version_minor": 0
      },
      "text/plain": [
       "Computing checksums:  37%|###6      | 15/41 [00:05<00:09,  2.86it/s]"
      ]
     },
     "metadata": {},
     "output_type": "display_data"
    },
    {
     "data": {
      "application/vnd.jupyter.widget-view+json": {
       "model_id": "c79fc0185d3644949ed2f87d042486e3",
       "version_major": 2,
       "version_minor": 0
      },
      "text/plain": [
       "Extracting data files:   0%|          | 0/3 [00:00<?, ?it/s]"
      ]
     },
     "metadata": {},
     "output_type": "display_data"
    },
    {
     "data": {
      "application/vnd.jupyter.widget-view+json": {
       "model_id": "9b3d28507489406780d42b489ff20bdc",
       "version_major": 2,
       "version_minor": 0
      },
      "text/plain": [
       "Generating train split:   0%|          | 0/13328 [00:00<?, ? examples/s]"
      ]
     },
     "metadata": {},
     "output_type": "display_data"
    },
    {
     "data": {
      "application/vnd.jupyter.widget-view+json": {
       "model_id": "26e559710073427092812c9a60caf2e8",
       "version_major": 2,
       "version_minor": 0
      },
      "text/plain": [
       "Generating test split:   0%|          | 0/165 [00:00<?, ? examples/s]"
      ]
     },
     "metadata": {},
     "output_type": "display_data"
    },
    {
     "data": {
      "application/vnd.jupyter.widget-view+json": {
       "model_id": "f12007269f5844a4b21e98b0b59d72c3",
       "version_major": 2,
       "version_minor": 0
      },
      "text/plain": [
       "Generating valid split:   0%|          | 0/117 [00:00<?, ? examples/s]"
      ]
     },
     "metadata": {},
     "output_type": "display_data"
    },
    {
     "name": "stdout",
     "output_type": "stream",
     "text": [
      "Dataset parquet downloaded and prepared to /home/toc/.cache/huggingface/datasets/deepmind___parquet/deepmind--code_contests-5c21f58b6c868668/0.0.0/2a3b91fbd88a2c90d1dbbb32b460cf621d31bd5b05b934492fdef7d8d6f236ec. Subsequent calls will reuse this data.\n"
     ]
    },
    {
     "data": {
      "application/vnd.jupyter.widget-view+json": {
       "model_id": "eab3af3953374c02858ed6f88ac63da5",
       "version_major": 2,
       "version_minor": 0
      },
      "text/plain": [
       "  0%|          | 0/3 [00:00<?, ?it/s]"
      ]
     },
     "metadata": {},
     "output_type": "display_data"
    }
   ],
   "source": [
    "from datasets import load_dataset\n",
    "\n",
    "dataset = load_dataset(\"deepmind/code_contests\")"
   ]
  },
  {
   "cell_type": "code",
   "execution_count": 3,
   "metadata": {},
   "outputs": [
    {
     "name": "stdout",
     "output_type": "stream",
     "text": [
      "<class 'datasets.dataset_dict.DatasetDict'>\n"
     ]
    }
   ],
   "source": [
    "print(type(dataset))"
   ]
  },
  {
   "cell_type": "code",
   "execution_count": 40,
   "metadata": {},
   "outputs": [
    {
     "name": "stdout",
     "output_type": "stream",
     "text": [
      "{'name': 'brcktsrm', 'description': 'Problem description.\\nVipul is a hardworking super-hero who maintains the bracket ratio of all the strings in the world. Recently he indulged himself in saving the string population so much that he lost his ability for checking brackets (luckily, not permanently ).Being his super-hero friend\\xa0help him in his time of hardship. \\n\\nInput\\n\\nThe first line of the input contains an integer T denoting the number of test cases. The description of T test cases follows.\\nThe first line of each test case contains a single string S denoting the string to be checked.\\n\\n\\nOutput\\n\\nFor each test case, output a single line printing \"YES\" or \"NO\" (without \" \" and in uppercase only) , denoting if the brackets in the given string is balanced or not .\\n\\n\\nConstraints\\n\\n1 ≤ T ≤ 10\\n1 ≤ length of S ≤ 60\\n\\n\\nExample\\nInput:\\n3\\n((()))\\n(())()\\n()(()\\n\\nOutput:\\nYES\\nYES\\nNO\\n\\n\\xa0\\n\\nExplanation\\nExample is self-explanatory.', 'public_tests': {'input': ['3\\n((()))\\n(())()\\n()(()'], 'output': ['YES\\nYES\\nNO']}, 'private_tests': {'input': [], 'output': []}, 'generated_tests': {'input': ['3\\n((()))\\n(())()\\n()())', '3\\n((()()\\n(())()\\n()(()', '3\\n((()))\\n(())))\\n()())', '3\\n)))(((\\n(())))\\n()())', '3\\n((()))\\n(())()\\n))(((', '3\\n((()()\\n(())()\\n()(((', '3\\n((()))\\n(())()\\n()()(', \"3\\n((()()\\n'())()\\n()(((\", '3\\n)))(((\\n(())))\\n()(*)', \"3\\n)(()()\\n'())()\\n()(((\", '3\\n))*(((\\n(())))\\n()(*)', \"3\\n)()(()\\n'())()\\n()(((\", '3\\n)*)(((\\n(())))\\n()(*)', \"3\\n)()())\\n'())()\\n()(((\", '3\\n)*)(((\\n(()())\\n()(*)', \"3\\n)()())\\n'()())\\n()(((\", '3\\n)*)(((\\n(()())\\n))(*(', \"3\\n)()()(\\n'()())\\n()(((\", '3\\n)()(*(\\n(()())\\n))(*(', \"3\\n)()()(\\n))()('\\n()(((\", '3\\n)()(*(\\n(())))\\n))(*(', \"3\\n)')()(\\n))()('\\n()(((\", '3\\n)()(*(\\n(())))\\n))()(', \"3\\n)')()(\\n)(())'\\n()(((\", '3\\n)()(*(\\n(())))\\n()())', \"3\\n))'()(\\n)(())'\\n()(((\", \"3\\n)('()(\\n)(())'\\n()(((\", \"3\\n)('()(\\n)('))(\\n()(((\", \"3\\n)('()(\\n)('))(\\n')(((\", \"3\\n)('()(\\n())'()\\n')(((\", \"3\\n)('()(\\n)())'(\\n')(((\", \"3\\n)('()(\\n)())'(\\n((()'\", \"3\\n)('()(\\n))))'(\\n((()'\", '3\\n((()))\\n)())()\\n()(()', '3\\n)))(((\\n(())()\\n()())', \"3\\n((()()\\n(())()\\n()(')\", '3\\n)))(((\\n(())()\\n))(((', '3\\n)((())\\n(())))\\n()())', '3\\n((()()\\n(())()\\n((()(', \"3\\n((()))\\n(())()\\n')()(\", '3\\n)))(()\\n(())))\\n()())', '3\\n((()()\\n&())()\\n()(((', '3\\n)))(((\\n))))((\\n()(*)', \"3\\n)(()()\\n'())()\\n(((((\", '3\\n))*(((\\n(())))\\n)*()(', \"3\\n)()(()\\n'())((\\n()(((\", '3\\n)*)(((\\n(())))\\n*)(()', \"3\\n)()())\\n'())()\\n()('(\", '3\\n)*)(((\\n))()((\\n()(*)', \"3\\n)')())\\n'()())\\n()(((\", \"3\\n)()()(\\n'()())\\n()()(\", '3\\n)()(*(\\n(()())\\n))(*)', \"3\\n)()()(\\n))()('\\n((()(\", \"3\\n)')')(\\n))()('\\n()(((\", '3\\n)()(*(\\n(())))\\n)())(', \"3\\n()()')\\n)(())'\\n()(((\", '3\\n(*)(()\\n(())))\\n()())', \"3\\n))'()(\\n'))(()\\n()(((\", \"3\\n)('(((\\n)(())'\\n()(((\", \"3\\n)('()(\\n((')))\\n()(((\", \"3\\n)('()(\\n)('))(\\n')()(\", \"3\\n)('()(\\n())'()\\n((()'\", \"3\\n)('()(\\n)())((\\n')(((\", \"3\\n)('()(\\n)())'(\\n((()(\", \"3\\n()('))\\n))))'(\\n((()'\", '3\\n((())(\\n)())()\\n()(()', '3\\n)))(((\\n)())()\\n()())', \"3\\n((()()\\n(()(()\\n()(')\", '3\\n)))(((\\n(())()\\n*)(((', \"3\\n)((())\\n'())))\\n()())\", '3\\n((()()\\n(())()\\n()()(', \"3\\n((()))\\n)()(()\\n')()(\", '3\\n)))((*\\n(())))\\n()())', '3\\n()((()\\n&())()\\n()(((', '3\\n)))(((\\n))))((\\n(*(*)', \"3\\n)(()()\\n)())('\\n(((((\", '3\\n))*(((\\n()()))\\n)*()(', \"3\\n)()())\\n'())()\\n()(''\", \"3\\n)')())\\n'()())\\n((()(\", '3\\n)()()(\\n&()())\\n()()(', '3\\n)()(*(\\n(()())\\n*)(*)', \"3\\n)()()(\\n))()('\\n(())(\", \"3\\n)')')(\\n))()('\\n()(('\", '3\\n)()(*(\\n(())))\\n)()((', \"3\\n)')())\\n)(())'\\n()(((\", '3\\n)*)(()\\n(())))\\n()())', \"3\\n))'()(\\n'))((*\\n()(((\", \"3\\n)('(((\\n)(())'\\n()(('\", \"3\\n)('()(\\n((')))\\n(((((\", \"3\\n)('()'\\n)('))(\\n')()(\", \"3\\n)('()(\\n)())((\\n')('(\", \"3\\n)('()(\\n'()))(\\n((()(\", \"3\\n()('))\\n('))))\\n((()'\", '3\\n((())(\\n*())()\\n()(()', '3\\n)))(((\\n)())()\\n((())', '3\\n((()))\\n(())()\\n*)(((', \"3\\n)((())\\n'())))\\n()'))\", \"3\\n((()()\\n(())()\\n')()(\", \"3\\n((()))\\n)()(()\\n()()'\", '3\\n)))((*\\n(())))\\n))())'], 'output': ['YES\\nYES\\nNO\\n', 'NO\\nYES\\nNO\\n', 'YES\\nNO\\nNO\\n', 'NO\\nNO\\nNO\\n', 'YES\\nYES\\nNO\\n', 'NO\\nYES\\nNO\\n', 'YES\\nYES\\nNO\\n', 'NO\\nNO\\nNO\\n', 'NO\\nNO\\nNO\\n', 'NO\\nNO\\nNO\\n', 'NO\\nNO\\nNO\\n', 'NO\\nNO\\nNO\\n', 'NO\\nNO\\nNO\\n', 'NO\\nNO\\nNO\\n', 'NO\\nYES\\nNO\\n', 'NO\\nNO\\nNO\\n', 'NO\\nYES\\nNO\\n', 'NO\\nNO\\nNO\\n', 'NO\\nYES\\nNO\\n', 'NO\\nNO\\nNO\\n', 'NO\\nNO\\nNO\\n', 'NO\\nNO\\nNO\\n', 'NO\\nNO\\nNO\\n', 'NO\\nNO\\nNO\\n', 'NO\\nNO\\nNO\\n', 'NO\\nNO\\nNO\\n', 'NO\\nNO\\nNO\\n', 'NO\\nNO\\nNO\\n', 'NO\\nNO\\nNO\\n', 'NO\\nNO\\nNO\\n', 'NO\\nNO\\nNO\\n', 'NO\\nNO\\nNO\\n', 'NO\\nNO\\nNO\\n', 'YES\\nNO\\nNO\\n', 'NO\\nYES\\nNO\\n', 'NO\\nYES\\nNO\\n', 'NO\\nYES\\nNO\\n', 'NO\\nNO\\nNO\\n', 'NO\\nYES\\nNO\\n', 'YES\\nYES\\nNO\\n', 'NO\\nNO\\nNO\\n', 'NO\\nNO\\nNO\\n', 'NO\\nNO\\nNO\\n', 'NO\\nNO\\nNO\\n', 'NO\\nNO\\nNO\\n', 'NO\\nNO\\nNO\\n', 'NO\\nNO\\nNO\\n', 'NO\\nNO\\nNO\\n', 'NO\\nNO\\nNO\\n', 'NO\\nNO\\nNO\\n', 'NO\\nNO\\nNO\\n', 'NO\\nYES\\nNO\\n', 'NO\\nNO\\nNO\\n', 'NO\\nNO\\nNO\\n', 'NO\\nNO\\nNO\\n', 'NO\\nNO\\nNO\\n', 'NO\\nNO\\nNO\\n', 'NO\\nNO\\nNO\\n', 'NO\\nNO\\nNO\\n', 'NO\\nNO\\nNO\\n', 'NO\\nNO\\nNO\\n', 'NO\\nNO\\nNO\\n', 'NO\\nNO\\nNO\\n', 'NO\\nNO\\nNO\\n', 'NO\\nNO\\nNO\\n', 'NO\\nNO\\nNO\\n', 'NO\\nNO\\nNO\\n', 'NO\\nNO\\nNO\\n', 'NO\\nYES\\nNO\\n', 'NO\\nNO\\nNO\\n', 'NO\\nYES\\nNO\\n', 'YES\\nNO\\nNO\\n', 'NO\\nNO\\nNO\\n', 'NO\\nNO\\nNO\\n', 'NO\\nNO\\nNO\\n', 'NO\\nNO\\nNO\\n', 'NO\\nNO\\nNO\\n', 'NO\\nNO\\nNO\\n', 'NO\\nNO\\nNO\\n', 'NO\\nNO\\nNO\\n', 'NO\\nYES\\nNO\\n', 'NO\\nNO\\nNO\\n', 'NO\\nNO\\nNO\\n', 'NO\\nNO\\nNO\\n', 'NO\\nNO\\nNO\\n', 'NO\\nNO\\nNO\\n', 'NO\\nNO\\nNO\\n', 'NO\\nNO\\nNO\\n', 'NO\\nNO\\nNO\\n', 'NO\\nNO\\nNO\\n', 'NO\\nNO\\nNO\\n', 'NO\\nNO\\nNO\\n', 'NO\\nNO\\nNO\\n', 'NO\\nNO\\nNO\\n', 'NO\\nNO\\nNO\\n', 'YES\\nYES\\nNO\\n', 'NO\\nNO\\nNO\\n', 'NO\\nYES\\nNO\\n', 'YES\\nNO\\nNO\\n', 'NO\\nNO\\nNO\\n']}, 'source': 1, 'difficulty': 6, 'solutions': {'language': [1, 1, 1], 'solution': [\"for _ in range(input()):\\n    try:\\n        eval(raw_input())\\n        print 'YES'\\n    except TypeError:\\n        print 'YES'\\n    except:\\n        print 'NO'\", 'for _ in range(input()):\\n    ins = raw_input().strip()\\n    stck = []\\n    res = \"YES\"\\n    for x in ins:\\n        if x == \"(\":\\n            stck.append(x)\\n        else:\\n            if len(stck)>0:\\n                stck.pop()\\n            else:\\n                res = \"NO\"\\n                break\\n    if len(stck) > 0: res = \"NO\" \\n    print res', \"for _ in range(input()):\\n    try: eval(raw_input()); print 'YES'\\n    except TypeError: print 'YES'\\n    except: print 'NO'\"]}, 'incorrect_solutions': {'language': [], 'solution': []}, 'cf_contest_id': 0, 'cf_index': '', 'cf_points': 0.0, 'cf_rating': 0, 'cf_tags': [], 'is_description_translated': False, 'untranslated_description': '', 'time_limit': None, 'memory_limit_bytes': 0, 'input_file': '', 'output_file': ''}\n"
     ]
    }
   ],
   "source": [
    "for i in range(1):\n",
    "    print(dataset['train'][0])"
   ]
  },
  {
   "cell_type": "code",
   "execution_count": null,
   "metadata": {},
   "outputs": [],
   "source": [
    "test = [1,2,3,4,5]"
   ]
  },
  {
   "cell_type": "code",
   "execution_count": 35,
   "metadata": {},
   "outputs": [
    {
     "data": {
      "text/plain": [
       "dict_keys(['train', 'test', 'valid'])"
      ]
     },
     "execution_count": 35,
     "metadata": {},
     "output_type": "execute_result"
    }
   ],
   "source": [
    "dataset.keys()"
   ]
  },
  {
   "cell_type": "code",
   "execution_count": 31,
   "metadata": {},
   "outputs": [
    {
     "name": "stdout",
     "output_type": "stream",
     "text": [
      "1\n",
      "1\n",
      "1\n",
      "1\n",
      "1\n",
      "1\n",
      "2\n",
      "2\n",
      "2\n",
      "2\n"
     ]
    }
   ],
   "source": [
    "for i in range(10):\n",
    "    print(dataset['train'][i]['source'])"
   ]
  },
  {
   "cell_type": "code",
   "execution_count": 32,
   "metadata": {},
   "outputs": [
    {
     "name": "stdout",
     "output_type": "stream",
     "text": [
      "13328\n"
     ]
    }
   ],
   "source": [
    "print(len(dataset['train']))"
   ]
  },
  {
   "cell_type": "code",
   "execution_count": 33,
   "metadata": {},
   "outputs": [],
   "source": [
    "import json"
   ]
  },
  {
   "cell_type": "code",
   "execution_count": 34,
   "metadata": {},
   "outputs": [],
   "source": [
    "with open('data/code_contests_train.jsonl', 'w',  encoding='utf-8') as write_file:\n",
    "    for line in dataset['train'] : write_file.write(json.dumps(line, ensure_ascii='False') + '\\n')\n"
   ]
  },
  {
   "cell_type": "code",
   "execution_count": 36,
   "metadata": {},
   "outputs": [],
   "source": [
    "with open('data/code_contests_test.jsonl', 'w',  encoding='utf-8') as write_file:\n",
    "    for line in dataset['test'] : write_file.write(json.dumps(line, ensure_ascii='False') + '\\n')\n"
   ]
  },
  {
   "cell_type": "code",
   "execution_count": 37,
   "metadata": {},
   "outputs": [],
   "source": [
    "with open('data/code_contests_valid.jsonl', 'w',  encoding='utf-8') as write_file:\n",
    "    for line in dataset['valid'] : write_file.write(json.dumps(line, ensure_ascii='False') + '\\n')\n"
   ]
  }
 ],
 "metadata": {
  "kernelspec": {
   "display_name": "dogyu",
   "language": "python",
   "name": "python3"
  },
  "language_info": {
   "codemirror_mode": {
    "name": "ipython",
    "version": 3
   },
   "file_extension": ".py",
   "mimetype": "text/x-python",
   "name": "python",
   "nbconvert_exporter": "python",
   "pygments_lexer": "ipython3",
   "version": "3.9.16"
  },
  "orig_nbformat": 4,
  "vscode": {
   "interpreter": {
    "hash": "484cb91c4aa6ea064c5710379ab95cfbca66410bd583213d13aabef9da2f59e5"
   }
  }
 },
 "nbformat": 4,
 "nbformat_minor": 2
}
